{
 "cells": [
  {
   "cell_type": "code",
   "execution_count": 94,
   "metadata": {},
   "outputs": [],
   "source": [
    "import os"
   ]
  },
  {
   "cell_type": "code",
   "execution_count": 95,
   "metadata": {
    "tags": []
   },
   "outputs": [
    {
     "output_type": "stream",
     "name": "stdout",
     "text": "['DirEntry', 'F_OK', 'MutableMapping', 'O_APPEND', 'O_BINARY', 'O_CREAT', 'O_EXCL', 'O_NOINHERIT', 'O_RANDOM', 'O_RDONLY', 'O_RDWR', 'O_SEQUENTIAL', 'O_SHORT_LIVED', 'O_TEMPORARY', 'O_TEXT', 'O_TRUNC', 'O_WRONLY', 'P_DETACH', 'P_NOWAIT', 'P_NOWAITO', 'P_OVERLAY', 'P_WAIT', 'PathLike', 'R_OK', 'SEEK_CUR', 'SEEK_END', 'SEEK_SET', 'TMP_MAX', 'W_OK', 'X_OK', '_Environ', '__all__', '__builtins__', '__cached__', '__doc__', '__file__', '__loader__', '__name__', '__package__', '__spec__', '_execvpe', '_exists', '_exit', '_fspath', '_get_exports_list', '_putenv', '_unsetenv', '_wrap_close', 'abc', 'abort', 'access', 'altsep', 'chdir', 'chmod', 'close', 'closerange', 'cpu_count', 'curdir', 'defpath', 'device_encoding', 'devnull', 'dup', 'dup2', 'environ', 'error', 'execl', 'execle', 'execlp', 'execlpe', 'execv', 'execve', 'execvp', 'execvpe', 'extsep', 'fdopen', 'fsdecode', 'fsencode', 'fspath', 'fstat', 'fsync', 'ftruncate', 'get_exec_path', 'get_handle_inheritable', 'get_inheritable', 'get_terminal_size', 'getcwd', 'getcwdb', 'getenv', 'getlogin', 'getpid', 'getppid', 'isatty', 'kill', 'linesep', 'link', 'listdir', 'lseek', 'lstat', 'makedirs', 'mkdir', 'name', 'open', 'pardir', 'path', 'pathsep', 'pipe', 'popen', 'putenv', 'read', 'readlink', 'remove', 'removedirs', 'rename', 'renames', 'replace', 'rmdir', 'scandir', 'sep', 'set_handle_inheritable', 'set_inheritable', 'spawnl', 'spawnle', 'spawnv', 'spawnve', 'st', 'startfile', 'stat', 'stat_result', 'statvfs_result', 'strerror', 'supports_bytes_environ', 'supports_dir_fd', 'supports_effective_ids', 'supports_fd', 'supports_follow_symlinks', 'symlink', 'sys', 'system', 'terminal_size', 'times', 'times_result', 'truncate', 'umask', 'uname_result', 'unlink', 'urandom', 'utime', 'waitpid', 'walk', 'write']\n"
    }
   ],
   "source": [
    "print(dir(os))"
   ]
  },
  {
   "cell_type": "code",
   "execution_count": 96,
   "metadata": {
    "tags": []
   },
   "outputs": [
    {
     "output_type": "stream",
     "name": "stdout",
     "text": "c:\\Box Sync\\Fellowship\\MS Biomedical Informatics\\2020 Fall\\Comp Sci Fundamentals - BMI 6017 (Nurs 6806)\\myProject\\exerPythOsTutorial\n"
    }
   ],
   "source": [
    "print(os.getcwd())"
   ]
  },
  {
   "cell_type": "code",
   "execution_count": 97,
   "metadata": {},
   "outputs": [],
   "source": [
    "os.chdir('/Box Sync/Fellowship/MS Biomedical Informatics/2020 Fall/Comp Sci Fundamentals - BMI 6017 (Nurs 6806)/myProject/')"
   ]
  },
  {
   "cell_type": "code",
   "execution_count": 98,
   "metadata": {
    "tags": []
   },
   "outputs": [
    {
     "output_type": "stream",
     "name": "stdout",
     "text": "c:\\Box Sync\\Fellowship\\MS Biomedical Informatics\\2020 Fall\\Comp Sci Fundamentals - BMI 6017 (Nurs 6806)\\myProject\n"
    }
   ],
   "source": [
    "print(os.getcwd())"
   ]
  },
  {
   "cell_type": "code",
   "execution_count": 99,
   "metadata": {},
   "outputs": [],
   "source": [
    "os.chdir('/Box Sync/Fellowship/MS Biomedical Informatics/2020 Fall/Comp Sci Fundamentals - BMI 6017 (Nurs 6806)/myProject/exerPythOsTutorial/')"
   ]
  },
  {
   "cell_type": "code",
   "execution_count": 100,
   "metadata": {
    "tags": []
   },
   "outputs": [
    {
     "output_type": "stream",
     "name": "stdout",
     "text": "c:\\Box Sync\\Fellowship\\MS Biomedical Informatics\\2020 Fall\\Comp Sci Fundamentals - BMI 6017 (Nurs 6806)\\myProject\\exerPythOsTutorial\n"
    }
   ],
   "source": [
    "print(os.getcwd())"
   ]
  },
  {
   "cell_type": "code",
   "execution_count": 101,
   "metadata": {
    "tags": []
   },
   "outputs": [
    {
     "output_type": "stream",
     "name": "stdout",
     "text": "['.git', '.ipynb_checkpoints', 'Home Environment.PNG', 'HOMEPATH.png', 'OSTutorial.ipynb', 'README.md', 'test.txt']\n"
    }
   ],
   "source": [
    "print(os.listdir())"
   ]
  },
  {
   "cell_type": "code",
   "execution_count": 102,
   "metadata": {},
   "outputs": [],
   "source": [
    "os.mkdir('OS-Demo-2')"
   ]
  },
  {
   "cell_type": "code",
   "execution_count": 103,
   "metadata": {},
   "outputs": [],
   "source": [
    "os.makedirs('OS-Demo-2/Sub-Dir-1')"
   ]
  },
  {
   "cell_type": "code",
   "execution_count": 104,
   "metadata": {
    "tags": []
   },
   "outputs": [
    {
     "output_type": "stream",
     "name": "stdout",
     "text": "['.git', '.ipynb_checkpoints', 'Home Environment.PNG', 'HOMEPATH.png', 'OS-Demo-2', 'OSTutorial.ipynb', 'README.md', 'test.txt']\n"
    }
   ],
   "source": [
    "print(os.listdir())"
   ]
  },
  {
   "cell_type": "code",
   "execution_count": 105,
   "metadata": {},
   "outputs": [],
   "source": [
    "os.rmdir('OS-Demo-2/Sub-Dir-1')"
   ]
  },
  {
   "cell_type": "code",
   "execution_count": 106,
   "metadata": {
    "tags": []
   },
   "outputs": [
    {
     "output_type": "stream",
     "name": "stdout",
     "text": "['.git', '.ipynb_checkpoints', 'Home Environment.PNG', 'HOMEPATH.png', 'OS-Demo-2', 'OSTutorial.ipynb', 'README.md', 'test.txt']\n"
    }
   ],
   "source": [
    "print(os.listdir())"
   ]
  },
  {
   "cell_type": "code",
   "execution_count": 107,
   "metadata": {},
   "outputs": [],
   "source": [
    "os.rmdir('OS-Demo-2')"
   ]
  },
  {
   "cell_type": "code",
   "execution_count": 108,
   "metadata": {
    "tags": []
   },
   "outputs": [
    {
     "output_type": "stream",
     "name": "stdout",
     "text": "['.git', '.ipynb_checkpoints', 'Home Environment.PNG', 'HOMEPATH.png', 'OSTutorial.ipynb', 'README.md', 'test.txt']\n"
    }
   ],
   "source": [
    "print(os.listdir())"
   ]
  },
  {
   "cell_type": "code",
   "execution_count": 109,
   "metadata": {},
   "outputs": [],
   "source": [
    "os.makedirs('OS-Demo-2/Sub-Dir-1')"
   ]
  },
  {
   "cell_type": "code",
   "execution_count": 110,
   "metadata": {
    "tags": []
   },
   "outputs": [
    {
     "output_type": "stream",
     "name": "stdout",
     "text": "['.git', '.ipynb_checkpoints', 'Home Environment.PNG', 'HOMEPATH.png', 'OS-Demo-2', 'OSTutorial.ipynb', 'README.md', 'test.txt']\n"
    }
   ],
   "source": [
    "print(os.listdir())"
   ]
  },
  {
   "cell_type": "code",
   "execution_count": 111,
   "metadata": {},
   "outputs": [],
   "source": [
    "os.removedirs('OS-Demo-2/Sub-Dir-1')"
   ]
  },
  {
   "cell_type": "code",
   "execution_count": 112,
   "metadata": {
    "tags": []
   },
   "outputs": [
    {
     "output_type": "stream",
     "name": "stdout",
     "text": "['.git', '.ipynb_checkpoints', 'Home Environment.PNG', 'HOMEPATH.png', 'OSTutorial.ipynb', 'README.md', 'test.txt']\n"
    }
   ],
   "source": [
    "print(os.listdir())"
   ]
  },
  {
   "cell_type": "code",
   "execution_count": 113,
   "metadata": {},
   "outputs": [],
   "source": [
    "os.rename('test.txt', 'demo.txt')"
   ]
  },
  {
   "cell_type": "code",
   "execution_count": 114,
   "metadata": {
    "tags": []
   },
   "outputs": [
    {
     "output_type": "stream",
     "name": "stdout",
     "text": "['.git', '.ipynb_checkpoints', 'demo.txt', 'Home Environment.PNG', 'HOMEPATH.png', 'OSTutorial.ipynb', 'README.md']\n"
    }
   ],
   "source": [
    "print(os.listdir())"
   ]
  },
  {
   "cell_type": "code",
   "execution_count": 115,
   "metadata": {
    "tags": []
   },
   "outputs": [
    {
     "output_type": "stream",
     "name": "stdout",
     "text": "os.stat_result(st_mode=33206, st_ino=12384898975299574, st_dev=846648488, st_nlink=1, st_uid=0, st_gid=0, st_size=0, st_atime=1599501508, st_mtime=1599501508, st_ctime=1599501508)\n"
    }
   ],
   "source": [
    "print(os.stat('demo.txt'))"
   ]
  },
  {
   "cell_type": "code",
   "execution_count": 116,
   "metadata": {
    "tags": []
   },
   "outputs": [
    {
     "output_type": "stream",
     "name": "stdout",
     "text": "1599501508.0473888\n"
    }
   ],
   "source": [
    "print(os.stat('demo.txt').st_mtime)"
   ]
  },
  {
   "cell_type": "code",
   "execution_count": 117,
   "metadata": {},
   "outputs": [],
   "source": [
    "from datetime import datetime"
   ]
  },
  {
   "cell_type": "code",
   "execution_count": 118,
   "metadata": {
    "tags": []
   },
   "outputs": [
    {
     "output_type": "stream",
     "name": "stdout",
     "text": "2020-09-07 11:58:28.047389\n"
    }
   ],
   "source": [
    "mod_time = os.stat('demo.txt').st_mtime\n",
    "print(datetime.fromtimestamp(mod_time))"
   ]
  },
  {
   "cell_type": "code",
   "execution_count": 119,
   "metadata": {
    "tags": []
   },
   "outputs": [
    {
     "output_type": "stream",
     "name": "stdout",
     "text": "Current Path: /Box Sync/Fellowship/MS Biomedical Informatics/2020 Fall/Comp Sci Fundamentals - BMI 6017 (Nurs 6806)/myProject/exerPythOsTutorial/\nDirectories: ['.git', '.ipynb_checkpoints']\nFiles: ['demo.txt', 'Home Environment.PNG', 'HOMEPATH.png', 'OSTutorial.ipynb', 'README.md']\n\nCurrent Path: /Box Sync/Fellowship/MS Biomedical Informatics/2020 Fall/Comp Sci Fundamentals - BMI 6017 (Nurs 6806)/myProject/exerPythOsTutorial/.git\nDirectories: ['hooks', 'info', 'logs', 'objects', 'refs']\nFiles: ['config', 'description', 'FETCH_HEAD', 'HEAD', 'index', 'packed-refs']\n\nCurrent Path: /Box Sync/Fellowship/MS Biomedical Informatics/2020 Fall/Comp Sci Fundamentals - BMI 6017 (Nurs 6806)/myProject/exerPythOsTutorial/.git\\hooks\nDirectories: []\nFiles: ['applypatch-msg.sample', 'commit-msg.sample', 'fsmonitor-watchman.sample', 'post-update.sample', 'pre-applypatch.sample', 'pre-commit.sample', 'pre-merge-commit.sample', 'pre-push.sample', 'pre-rebase.sample', 'pre-receive.sample', 'prepare-commit-msg.sample', 'update.sample']\n\nCurrent Path: /Box Sync/Fellowship/MS Biomedical Informatics/2020 Fall/Comp Sci Fundamentals - BMI 6017 (Nurs 6806)/myProject/exerPythOsTutorial/.git\\info\nDirectories: []\nFiles: ['exclude']\n\nCurrent Path: /Box Sync/Fellowship/MS Biomedical Informatics/2020 Fall/Comp Sci Fundamentals - BMI 6017 (Nurs 6806)/myProject/exerPythOsTutorial/.git\\logs\nDirectories: ['refs']\nFiles: ['HEAD']\n\nCurrent Path: /Box Sync/Fellowship/MS Biomedical Informatics/2020 Fall/Comp Sci Fundamentals - BMI 6017 (Nurs 6806)/myProject/exerPythOsTutorial/.git\\logs\\refs\nDirectories: ['heads', 'remotes']\nFiles: []\n\nCurrent Path: /Box Sync/Fellowship/MS Biomedical Informatics/2020 Fall/Comp Sci Fundamentals - BMI 6017 (Nurs 6806)/myProject/exerPythOsTutorial/.git\\logs\\refs\\heads\nDirectories: []\nFiles: ['master']\n\nCurrent Path: /Box Sync/Fellowship/MS Biomedical Informatics/2020 Fall/Comp Sci Fundamentals - BMI 6017 (Nurs 6806)/myProject/exerPythOsTutorial/.git\\logs\\refs\\remotes\nDirectories: ['origin']\nFiles: []\n\nCurrent Path: /Box Sync/Fellowship/MS Biomedical Informatics/2020 Fall/Comp Sci Fundamentals - BMI 6017 (Nurs 6806)/myProject/exerPythOsTutorial/.git\\logs\\refs\\remotes\\origin\nDirectories: []\nFiles: ['HEAD']\n\nCurrent Path: /Box Sync/Fellowship/MS Biomedical Informatics/2020 Fall/Comp Sci Fundamentals - BMI 6017 (Nurs 6806)/myProject/exerPythOsTutorial/.git\\objects\nDirectories: ['00', '03', '11', '24', '3b', '62', '64', '81', '82', '92', '93', 'bc', 'd9', 'ec', 'f8', 'info', 'pack']\nFiles: []\n\nCurrent Path: /Box Sync/Fellowship/MS Biomedical Informatics/2020 Fall/Comp Sci Fundamentals - BMI 6017 (Nurs 6806)/myProject/exerPythOsTutorial/.git\\objects\\00\nDirectories: []\nFiles: ['17cc762ddca2dac5789bab5eb6d0e936cc19a1']\n\nCurrent Path: /Box Sync/Fellowship/MS Biomedical Informatics/2020 Fall/Comp Sci Fundamentals - BMI 6017 (Nurs 6806)/myProject/exerPythOsTutorial/.git\\objects\\03\nDirectories: []\nFiles: ['926932d81ca0b9f37e8acc6e15d802a94d8efc']\n\nCurrent Path: /Box Sync/Fellowship/MS Biomedical Informatics/2020 Fall/Comp Sci Fundamentals - BMI 6017 (Nurs 6806)/myProject/exerPythOsTutorial/.git\\objects\\11\nDirectories: []\nFiles: ['6b0d8110b3482385581150e048cd7d2a86c9ba']\n\nCurrent Path: /Box Sync/Fellowship/MS Biomedical Informatics/2020 Fall/Comp Sci Fundamentals - BMI 6017 (Nurs 6806)/myProject/exerPythOsTutorial/.git\\objects\\24\nDirectories: []\nFiles: ['3bf99ed99e546ae4de4c55263ae5bb2da0cb3b']\n\nCurrent Path: /Box Sync/Fellowship/MS Biomedical Informatics/2020 Fall/Comp Sci Fundamentals - BMI 6017 (Nurs 6806)/myProject/exerPythOsTutorial/.git\\objects\\3b\nDirectories: []\nFiles: ['d47a2a456c175cc995e933ff1fc7fb89249bd7']\n\nCurrent Path: /Box Sync/Fellowship/MS Biomedical Informatics/2020 Fall/Comp Sci Fundamentals - BMI 6017 (Nurs 6806)/myProject/exerPythOsTutorial/.git\\objects\\62\nDirectories: []\nFiles: ['a9612fecedfbe87fec0585d9f9851971a6055b']\n\nCurrent Path: /Box Sync/Fellowship/MS Biomedical Informatics/2020 Fall/Comp Sci Fundamentals - BMI 6017 (Nurs 6806)/myProject/exerPythOsTutorial/.git\\objects\\64\nDirectories: []\nFiles: ['17183cfe22b0730cd2c31e91a7d15fe8f0cad6']\n\nCurrent Path: /Box Sync/Fellowship/MS Biomedical Informatics/2020 Fall/Comp Sci Fundamentals - BMI 6017 (Nurs 6806)/myProject/exerPythOsTutorial/.git\\objects\\81\nDirectories: []\nFiles: ['489160431205751ed7297513fb3df884041151']\n\nCurrent Path: /Box Sync/Fellowship/MS Biomedical Informatics/2020 Fall/Comp Sci Fundamentals - BMI 6017 (Nurs 6806)/myProject/exerPythOsTutorial/.git\\objects\\82\nDirectories: []\nFiles: ['dd732a2f1dfbcae2e93b77eededdf286232ca8']\n\nCurrent Path: /Box Sync/Fellowship/MS Biomedical Informatics/2020 Fall/Comp Sci Fundamentals - BMI 6017 (Nurs 6806)/myProject/exerPythOsTutorial/.git\\objects\\92\nDirectories: []\nFiles: ['10276accfa50a322bcf34f7dc4331bba3fc0f7']\n\nCurrent Path: /Box Sync/Fellowship/MS Biomedical Informatics/2020 Fall/Comp Sci Fundamentals - BMI 6017 (Nurs 6806)/myProject/exerPythOsTutorial/.git\\objects\\93\nDirectories: []\nFiles: ['18b8789594fe926946db5c715a90157d81728e']\n\nCurrent Path: /Box Sync/Fellowship/MS Biomedical Informatics/2020 Fall/Comp Sci Fundamentals - BMI 6017 (Nurs 6806)/myProject/exerPythOsTutorial/.git\\objects\\bc\nDirectories: []\nFiles: ['003f157dc1934717eeb715cd7ff64a1e87d472']\n\nCurrent Path: /Box Sync/Fellowship/MS Biomedical Informatics/2020 Fall/Comp Sci Fundamentals - BMI 6017 (Nurs 6806)/myProject/exerPythOsTutorial/.git\\objects\\d9\nDirectories: []\nFiles: ['0ee068a907e1b774a62ae070a35ad1c06f22dd']\n\nCurrent Path: /Box Sync/Fellowship/MS Biomedical Informatics/2020 Fall/Comp Sci Fundamentals - BMI 6017 (Nurs 6806)/myProject/exerPythOsTutorial/.git\\objects\\ec\nDirectories: []\nFiles: ['0ef358206e815d47022d6e4612b9c14240ccb4']\n\nCurrent Path: /Box Sync/Fellowship/MS Biomedical Informatics/2020 Fall/Comp Sci Fundamentals - BMI 6017 (Nurs 6806)/myProject/exerPythOsTutorial/.git\\objects\\f8\nDirectories: []\nFiles: ['4559c8ec28e45357e272939c449541e5ba2b7a']\n\nCurrent Path: /Box Sync/Fellowship/MS Biomedical Informatics/2020 Fall/Comp Sci Fundamentals - BMI 6017 (Nurs 6806)/myProject/exerPythOsTutorial/.git\\objects\\info\nDirectories: []\nFiles: []\n\nCurrent Path: /Box Sync/Fellowship/MS Biomedical Informatics/2020 Fall/Comp Sci Fundamentals - BMI 6017 (Nurs 6806)/myProject/exerPythOsTutorial/.git\\objects\\pack\nDirectories: []\nFiles: []\n\nCurrent Path: /Box Sync/Fellowship/MS Biomedical Informatics/2020 Fall/Comp Sci Fundamentals - BMI 6017 (Nurs 6806)/myProject/exerPythOsTutorial/.git\\refs\nDirectories: ['heads', 'remotes', 'tags']\nFiles: []\n\nCurrent Path: /Box Sync/Fellowship/MS Biomedical Informatics/2020 Fall/Comp Sci Fundamentals - BMI 6017 (Nurs 6806)/myProject/exerPythOsTutorial/.git\\refs\\heads\nDirectories: []\nFiles: ['master']\n\nCurrent Path: /Box Sync/Fellowship/MS Biomedical Informatics/2020 Fall/Comp Sci Fundamentals - BMI 6017 (Nurs 6806)/myProject/exerPythOsTutorial/.git\\refs\\remotes\nDirectories: ['origin']\nFiles: []\n\nCurrent Path: /Box Sync/Fellowship/MS Biomedical Informatics/2020 Fall/Comp Sci Fundamentals - BMI 6017 (Nurs 6806)/myProject/exerPythOsTutorial/.git\\refs\\remotes\\origin\nDirectories: []\nFiles: ['HEAD']\n\nCurrent Path: /Box Sync/Fellowship/MS Biomedical Informatics/2020 Fall/Comp Sci Fundamentals - BMI 6017 (Nurs 6806)/myProject/exerPythOsTutorial/.git\\refs\\tags\nDirectories: []\nFiles: []\n\nCurrent Path: /Box Sync/Fellowship/MS Biomedical Informatics/2020 Fall/Comp Sci Fundamentals - BMI 6017 (Nurs 6806)/myProject/exerPythOsTutorial/.ipynb_checkpoints\nDirectories: []\nFiles: ['OSTutorial-checkpoint.ipynb']\n\n"
    }
   ],
   "source": [
    "for dirpath, dirnames, filenames in os.walk('/Box Sync/Fellowship/MS Biomedical Informatics/2020 Fall/Comp Sci Fundamentals - BMI 6017 (Nurs 6806)/myProject/exerPythOsTutorial/'):\n",
    "    print('Current Path:', dirpath)\n",
    "    print('Directories:', dirnames)\n",
    "    print('Files:', filenames)\n",
    "    print()"
   ]
  },
  {
   "cell_type": "code",
   "execution_count": 120,
   "metadata": {
    "tags": []
   },
   "outputs": [
    {
     "output_type": "stream",
     "name": "stdout",
     "text": "\\Users\\John\n"
    }
   ],
   "source": [
    "print(os.environ.get('HOMEPATH'))"
   ]
  },
  {
   "cell_type": "code",
   "execution_count": 121,
   "metadata": {
    "tags": []
   },
   "outputs": [
    {
     "output_type": "stream",
     "name": "stdout",
     "text": "\\Users\\Johntest.txt\n"
    }
   ],
   "source": [
    "file_path = os.environ.get('HOMEPATH') + 'test.txt'\n",
    "print(file_path)"
   ]
  },
  {
   "cell_type": "code",
   "execution_count": 122,
   "metadata": {
    "tags": []
   },
   "outputs": [
    {
     "output_type": "stream",
     "name": "stdout",
     "text": "\\Users\\John\\test.txt\n"
    }
   ],
   "source": [
    "file_path = os.path.join(os.environ.get('HOMEPATH'), 'test.txt')\n",
    "print(file_path)"
   ]
  },
  {
   "cell_type": "code",
   "execution_count": 123,
   "metadata": {
    "tags": []
   },
   "outputs": [
    {
     "output_type": "stream",
     "name": "stdout",
     "text": "test.txt\n"
    }
   ],
   "source": [
    "print(os.path.basename('/tmp/test.txt'))"
   ]
  },
  {
   "cell_type": "code",
   "execution_count": 124,
   "metadata": {
    "tags": []
   },
   "outputs": [
    {
     "output_type": "stream",
     "name": "stdout",
     "text": "/tmp\n"
    }
   ],
   "source": [
    "print(os.path.dirname('/tmp/test.txt'))"
   ]
  },
  {
   "cell_type": "code",
   "execution_count": 125,
   "metadata": {
    "tags": []
   },
   "outputs": [
    {
     "output_type": "stream",
     "name": "stdout",
     "text": "('/tmp', 'test.txt')\n"
    }
   ],
   "source": [
    "print(os.path.split('/tmp/test.txt'))"
   ]
  },
  {
   "cell_type": "code",
   "execution_count": 126,
   "metadata": {
    "tags": []
   },
   "outputs": [
    {
     "output_type": "stream",
     "name": "stdout",
     "text": "False\n"
    }
   ],
   "source": [
    "print(os.path.exists('/tmp/test.txt'))"
   ]
  },
  {
   "cell_type": "code",
   "execution_count": 127,
   "metadata": {
    "tags": []
   },
   "outputs": [
    {
     "output_type": "stream",
     "name": "stdout",
     "text": "False\n"
    }
   ],
   "source": [
    "print(os.path.isdir('/tmp/test.txt'))"
   ]
  },
  {
   "cell_type": "code",
   "execution_count": 128,
   "metadata": {
    "tags": []
   },
   "outputs": [
    {
     "output_type": "stream",
     "name": "stdout",
     "text": "False\n"
    }
   ],
   "source": [
    "print(os.path.isfile('/tmp/test.txt'))"
   ]
  },
  {
   "cell_type": "code",
   "execution_count": 129,
   "metadata": {
    "tags": []
   },
   "outputs": [
    {
     "output_type": "stream",
     "name": "stdout",
     "text": "('/tmp/test', '.txt')\n"
    }
   ],
   "source": [
    "print(os.path.splitext('/tmp/test.txt'))"
   ]
  },
  {
   "cell_type": "code",
   "execution_count": 130,
   "metadata": {
    "tags": []
   },
   "outputs": [
    {
     "output_type": "stream",
     "name": "stdout",
     "text": "['__all__', '__builtins__', '__cached__', '__doc__', '__file__', '__loader__', '__name__', '__package__', '__spec__', '_abspath_fallback', '_get_bothseps', '_getfinalpathname', '_getfullpathname', '_getvolumepathname', 'abspath', 'altsep', 'basename', 'commonpath', 'commonprefix', 'curdir', 'defpath', 'devnull', 'dirname', 'exists', 'expanduser', 'expandvars', 'extsep', 'genericpath', 'getatime', 'getctime', 'getmtime', 'getsize', 'isabs', 'isdir', 'isfile', 'islink', 'ismount', 'join', 'lexists', 'normcase', 'normpath', 'os', 'pardir', 'pathsep', 'realpath', 'relpath', 'samefile', 'sameopenfile', 'samestat', 'sep', 'split', 'splitdrive', 'splitext', 'stat', 'supports_unicode_filenames', 'sys']\n"
    }
   ],
   "source": [
    "print(dir(os.path))"
   ]
  },
  {
   "source": [
    "# https://docs.python.org/3/"
   ],
   "cell_type": "code",
   "metadata": {},
   "execution_count": 131,
   "outputs": []
  },
  {
   "cell_type": "code",
   "execution_count": 132,
   "metadata": {},
   "outputs": [],
   "source": [
    "# https://docs.python.org/3/library/os.html"
   ]
  },
  {
   "cell_type": "code",
   "execution_count": null,
   "metadata": {},
   "outputs": [],
   "source": []
  }
 ],
 "metadata": {
  "kernelspec": {
   "display_name": "Python 3",
   "language": "python",
   "name": "python3"
  },
  "language_info": {
   "codemirror_mode": {
    "name": "ipython",
    "version": 3
   },
   "file_extension": ".py",
   "mimetype": "text/x-python",
   "name": "python",
   "nbconvert_exporter": "python",
   "pygments_lexer": "ipython3",
   "version": "3.7.4-final"
  }
 },
 "nbformat": 4,
 "nbformat_minor": 2
}